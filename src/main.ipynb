{
 "cells": [
  {
   "cell_type": "code",
   "execution_count": 1,
   "id": "a0c4e7a7",
   "metadata": {},
   "outputs": [],
   "source": [
    "import sys\n",
    "from pyspark.sql import SparkSession\n",
    "from pyspark.sql.functions import avg,max,min,sum, udf, col, when, count, round, concat_ws, lit, first\n",
    "from pyspark.sql.types import StringType, IntegerType, FloatType, StructType, StructField\n",
    "from pyspark.sql import functions as F\n",
    "from pyspark.sql import Window\n",
    "import os\n",
    "import unicodedata\n",
    "import inspect\n",
    "from funcao_util import remove_acentos\n",
    "import sys\n",
    "sys.path.insert(0, os.path.abspath(\"c:/Users/luan_/Documents/GitHub/project-pucpr-as1/src/\"))\n",
    "\n",
    "spark = SparkSession.builder.appName(\"NotasPorMateriaEAluno\").getOrCreate()"
   ]
  },
  {
   "cell_type": "code",
   "execution_count": 2,
   "id": "8c2393a6",
   "metadata": {},
   "outputs": [],
   "source": [
    "remove_acentos_udf = udf(remove_acentos, StringType())"
   ]
  },
  {
   "cell_type": "code",
   "execution_count": null,
   "id": "d126c2df",
   "metadata": {},
   "outputs": [],
   "source": [
    "data = [(\"João\", \"Matemática\", 7), (\"João\", \"Matemática\", 9), \n",
    "        (\"Maria\", \"História\", 7), (\"Maria\", \"História\", 6), \n",
    "        (\"Pedro\", \"Ciências\", 10), (\"Pedro\", \"Ciências\", 8),\n",
    "        (\"Ana\", \"Matemática\", 9), (\"Ana\", \"História\", 8), \n",
    "        (\"Ana\", \"Ciências\", 7), (\"Carlos\", \"Matemática\", 6), \n",
    "        (\"Carlos\", \"História\", 5), (\"Carlos\", \"Ciências\", 4)]\n",
    "\n",
    "df = spark.createDataFrame(data, [\"aluno\", \"mat\", \"nota\"])"
   ]
  },
  {
   "cell_type": "code",
   "execution_count": null,
   "id": "ef4bb182",
   "metadata": {},
   "outputs": [],
   "source": [
    "df_unifica_linhas = (\n",
    "    df\n",
    "    .withColumn(\"mat_sem_acentos\", remove_acentos_udf(col(\"mat\")))\n",
    "    .groupBy(col(\"aluno\"))\n",
    "    .pivot(\"mat_sem_acentos\")\n",
    "    .agg(first(col(\"nota\")))\n",
    "    )"
   ]
  },
  {
   "cell_type": "code",
   "execution_count": null,
   "id": "abd43aad",
   "metadata": {},
   "outputs": [],
   "source": [
    "df_2 = (\n",
    "    df_unifica_linhas\n",
    "    .fillna(0, subset=[\"Matematica\", \"Historia\", \"Ciencias\"])\n",
    ")\n",
    "\n",
    "df_2.show()"
   ]
  }
 ],
 "metadata": {
  "kernelspec": {
   "display_name": "Python 3",
   "language": "python",
   "name": "python3"
  },
  "language_info": {
   "codemirror_mode": {
    "name": "ipython",
    "version": 3
   },
   "file_extension": ".py",
   "mimetype": "text/x-python",
   "name": "python",
   "nbconvert_exporter": "python",
   "pygments_lexer": "ipython3",
   "version": "3.11.0"
  }
 },
 "nbformat": 4,
 "nbformat_minor": 5
}
