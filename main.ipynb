{
 "cells": [
  {
   "cell_type": "code",
   "execution_count": null,
   "id": "a0c4e7a7",
   "metadata": {},
   "outputs": [],
   "source": [
    "from pyspark.sql import SparkSession\n",
    "from pyspark.sql.functions import avg\n",
    "\n",
    "import os\n",
    "import sys\n",
    "\n",
    "os.environ['PYSPARK_PYTHON'] = sys.executable\n",
    "os.environ['PYSPARK_DRIVER_PYTHON'] = sys.executable\n",
    "\n",
    "spark = SparkSession.builder.appName(\"MediaNotasPorMateriaEAluno\").getOrCreate()"
   ]
  },
  {
   "cell_type": "code",
   "execution_count": 3,
   "id": "d126c2df",
   "metadata": {},
   "outputs": [],
   "source": [
    "data = [(\"João\", \"Matemática\", 8), (\"João\", \"Matemática\", 9), \n",
    "        (\"Maria\", \"História\", 7), (\"Maria\", \"História\", 6), \n",
    "        (\"Pedro\", \"Ciências\", 10), (\"Pedro\", \"Ciências\", 8)]\n",
    "\n",
    "df = spark.createDataFrame(data, [\"aluno\", \"mat\", \"nota\"])"
   ]
  },
  {
   "cell_type": "code",
   "execution_count": 4,
   "id": "0ee22805",
   "metadata": {},
   "outputs": [],
   "source": [
    "df_media = df.groupBy(\"aluno\", \"mat\").agg(avg(\"nota\").alias(\"media_nota\"))"
   ]
  },
  {
   "cell_type": "code",
   "execution_count": null,
   "id": "298c0374",
   "metadata": {},
   "outputs": [
    {
     "name": "stdout",
     "output_type": "stream",
     "text": [
      "+-----+----------+----------+\n",
      "|aluno|       mat|media_nota|\n",
      "+-----+----------+----------+\n",
      "| João|Matemática|       8.5|\n",
      "+-----+----------+----------+\n",
      "only showing top 1 row\n",
      "\n"
     ]
    }
   ],
   "source": [
    "df_media.show()"
   ]
  }
 ],
 "metadata": {
  "kernelspec": {
   "display_name": "Python 3",
   "language": "python",
   "name": "python3"
  },
  "language_info": {
   "codemirror_mode": {
    "name": "ipython",
    "version": 3
   },
   "file_extension": ".py",
   "mimetype": "text/x-python",
   "name": "python",
   "nbconvert_exporter": "python",
   "pygments_lexer": "ipython3",
   "version": "3.11.0"
  }
 },
 "nbformat": 4,
 "nbformat_minor": 5
}
