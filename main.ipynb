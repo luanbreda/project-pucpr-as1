{
 "cells": [
  {
   "cell_type": "code",
   "execution_count": null,
   "id": "a0c4e7a7",
   "metadata": {},
   "outputs": [],
   "source": [
    "from pyspark.sql import SparkSession\n",
    "from pyspark.sql.functions import avg,max,min,sum\n",
    "\n",
    "import os\n",
    "import sys\n",
    "\n",
    "os.environ['PYSPARK_PYTHON'] = sys.executable\n",
    "os.environ['PYSPARK_DRIVER_PYTHON'] = sys.executable\n",
    "\n",
    "spark = SparkSession.builder.appName(\"NotasPorMateriaEAluno\").getOrCreate()"
   ]
  },
  {
   "cell_type": "code",
   "execution_count": null,
   "id": "d126c2df",
   "metadata": {},
   "outputs": [],
   "source": [
    "data = [(\"João\", \"Matemática\", 8), (\"João\", \"Matemática\", 9), \n",
    "        (\"Maria\", \"História\", 7), (\"Maria\", \"História\", 6), \n",
    "        (\"Pedro\", \"Ciências\", 10), (\"Pedro\", \"Ciências\", 8)]\n",
    "\n",
    "df = spark.createDataFrame(data, [\"aluno\", \"mat\", \"nota\"])"
   ]
  },
  {
   "cell_type": "code",
   "execution_count": null,
   "id": "0ee22805",
   "metadata": {},
   "outputs": [],
   "source": [
    "df_media = df.groupBy(\"aluno\", \"mat\").agg(avg(\"nota\").alias(\"media_nota\"))"
   ]
  },
  {
   "cell_type": "code",
   "execution_count": null,
   "id": "9162b442",
   "metadata": {},
   "outputs": [],
   "source": [
    "df_soma = df.groupBy(\"aluno\").agg(sum(\"nota\").alias(\"sum_nota\"))"
   ]
  },
  {
   "cell_type": "code",
   "execution_count": null,
   "id": "e6e3f794",
   "metadata": {},
   "outputs": [],
   "source": [
    "df_soma.show()"
   ]
  },
  {
   "cell_type": "code",
   "execution_count": null,
   "id": "298c0374",
   "metadata": {},
   "outputs": [
    {
     "name": "stdout",
     "output_type": "stream",
     "text": [
      "+-----+----------+----------+\n",
      "|aluno|       mat|media_nota|\n",
      "+-----+----------+----------+\n",
      "| João|Matemática|       8.5|\n",
      "+-----+----------+----------+\n",
      "only showing top 1 row\n",
      "\n"
     ]
    }
   ],
   "source": [
    "df_media.show()"
   ]
  },
  {
   "cell_type": "code",
   "execution_count": null,
   "id": "cb83e22b",
   "metadata": {},
   "outputs": [],
   "source": [
    "df.groupBy(\"aluno\").agg(max(\"nota\").alias(\"max_nota\")).show()"
   ]
  }
 ],
 "metadata": {
  "kernelspec": {
   "display_name": "Python 3",
   "language": "python",
   "name": "python3"
  },
  "language_info": {
   "codemirror_mode": {
    "name": "ipython",
    "version": 3
   },
   "file_extension": ".py",
   "mimetype": "text/x-python",
   "name": "python",
   "nbconvert_exporter": "python",
   "pygments_lexer": "ipython3",
   "version": "3.11.0"
  }
 },
 "nbformat": 4,
 "nbformat_minor": 5
}
